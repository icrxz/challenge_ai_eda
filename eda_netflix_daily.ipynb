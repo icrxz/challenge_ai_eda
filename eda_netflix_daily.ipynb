{
 "cells": [
  {
   "cell_type": "code",
   "execution_count": 1,
   "metadata": {},
   "outputs": [],
   "source": [
    "import pandas as pd"
   ]
  },
  {
   "cell_type": "code",
   "execution_count": 2,
   "metadata": {},
   "outputs": [],
   "source": [
    "df_netflix = pd.read_csv('./dataset/netflix_daily_top_10.csv')"
   ]
  },
  {
   "cell_type": "code",
   "execution_count": 3,
   "metadata": {},
   "outputs": [
    {
     "data": {
      "text/html": [
       "<div>\n",
       "<style scoped>\n",
       "    .dataframe tbody tr th:only-of-type {\n",
       "        vertical-align: middle;\n",
       "    }\n",
       "\n",
       "    .dataframe tbody tr th {\n",
       "        vertical-align: top;\n",
       "    }\n",
       "\n",
       "    .dataframe thead th {\n",
       "        text-align: right;\n",
       "    }\n",
       "</style>\n",
       "<table border=\"1\" class=\"dataframe\">\n",
       "  <thead>\n",
       "    <tr style=\"text-align: right;\">\n",
       "      <th></th>\n",
       "      <th>As of</th>\n",
       "      <th>Rank</th>\n",
       "      <th>Year to Date Rank</th>\n",
       "      <th>Last Week Rank</th>\n",
       "      <th>Title</th>\n",
       "      <th>Type</th>\n",
       "      <th>Netflix Exclusive</th>\n",
       "      <th>Netflix Release Date</th>\n",
       "      <th>Days In Top 10</th>\n",
       "      <th>Viewership Score</th>\n",
       "    </tr>\n",
       "  </thead>\n",
       "  <tbody>\n",
       "    <tr>\n",
       "      <th>0</th>\n",
       "      <td>2020-04-01</td>\n",
       "      <td>1</td>\n",
       "      <td>1</td>\n",
       "      <td>1</td>\n",
       "      <td>Tiger King: Murder, Mayhem …</td>\n",
       "      <td>TV Show</td>\n",
       "      <td>Yes</td>\n",
       "      <td>Mar 20, 2020</td>\n",
       "      <td>9</td>\n",
       "      <td>90</td>\n",
       "    </tr>\n",
       "    <tr>\n",
       "      <th>1</th>\n",
       "      <td>2020-04-01</td>\n",
       "      <td>2</td>\n",
       "      <td>2</td>\n",
       "      <td>-</td>\n",
       "      <td>Ozark</td>\n",
       "      <td>TV Show</td>\n",
       "      <td>Yes</td>\n",
       "      <td>Jul 21, 2017</td>\n",
       "      <td>5</td>\n",
       "      <td>45</td>\n",
       "    </tr>\n",
       "    <tr>\n",
       "      <th>2</th>\n",
       "      <td>2020-04-01</td>\n",
       "      <td>3</td>\n",
       "      <td>3</td>\n",
       "      <td>2</td>\n",
       "      <td>All American</td>\n",
       "      <td>TV Show</td>\n",
       "      <td>NaN</td>\n",
       "      <td>Mar 28, 2019</td>\n",
       "      <td>9</td>\n",
       "      <td>76</td>\n",
       "    </tr>\n",
       "    <tr>\n",
       "      <th>3</th>\n",
       "      <td>2020-04-01</td>\n",
       "      <td>4</td>\n",
       "      <td>4</td>\n",
       "      <td>-</td>\n",
       "      <td>Blood Father</td>\n",
       "      <td>Movie</td>\n",
       "      <td>NaN</td>\n",
       "      <td>Mar 26, 2020</td>\n",
       "      <td>5</td>\n",
       "      <td>30</td>\n",
       "    </tr>\n",
       "    <tr>\n",
       "      <th>4</th>\n",
       "      <td>2020-04-01</td>\n",
       "      <td>5</td>\n",
       "      <td>5</td>\n",
       "      <td>4</td>\n",
       "      <td>The Platform</td>\n",
       "      <td>Movie</td>\n",
       "      <td>Yes</td>\n",
       "      <td>Mar 20, 2020</td>\n",
       "      <td>9</td>\n",
       "      <td>55</td>\n",
       "    </tr>\n",
       "    <tr>\n",
       "      <th>5</th>\n",
       "      <td>2020-04-01</td>\n",
       "      <td>6</td>\n",
       "      <td>6</td>\n",
       "      <td>-</td>\n",
       "      <td>Car Masters: Rust to Riches</td>\n",
       "      <td>TV Show</td>\n",
       "      <td>Yes</td>\n",
       "      <td>Sep 14, 2018</td>\n",
       "      <td>4</td>\n",
       "      <td>14</td>\n",
       "    </tr>\n",
       "    <tr>\n",
       "      <th>6</th>\n",
       "      <td>2020-04-01</td>\n",
       "      <td>7</td>\n",
       "      <td>10</td>\n",
       "      <td>-</td>\n",
       "      <td>Unorthodox</td>\n",
       "      <td>TV Show</td>\n",
       "      <td>Yes</td>\n",
       "      <td>Mar 26, 2020</td>\n",
       "      <td>2</td>\n",
       "      <td>5</td>\n",
       "    </tr>\n",
       "    <tr>\n",
       "      <th>7</th>\n",
       "      <td>2020-04-01</td>\n",
       "      <td>8</td>\n",
       "      <td>7</td>\n",
       "      <td>5</td>\n",
       "      <td>Love is Blind</td>\n",
       "      <td>TV Show</td>\n",
       "      <td>Yes</td>\n",
       "      <td>Feb 13, 2020</td>\n",
       "      <td>9</td>\n",
       "      <td>40</td>\n",
       "    </tr>\n",
       "    <tr>\n",
       "      <th>8</th>\n",
       "      <td>2020-04-01</td>\n",
       "      <td>9</td>\n",
       "      <td>8</td>\n",
       "      <td>-</td>\n",
       "      <td>Badland</td>\n",
       "      <td>Movie</td>\n",
       "      <td>NaN</td>\n",
       "      <td>Mar 26, 2020</td>\n",
       "      <td>4</td>\n",
       "      <td>11</td>\n",
       "    </tr>\n",
       "    <tr>\n",
       "      <th>9</th>\n",
       "      <td>2020-04-01</td>\n",
       "      <td>10</td>\n",
       "      <td>9</td>\n",
       "      <td>-</td>\n",
       "      <td>Uncorked</td>\n",
       "      <td>Movie</td>\n",
       "      <td>Yes</td>\n",
       "      <td>Mar 27, 2020</td>\n",
       "      <td>4</td>\n",
       "      <td>15</td>\n",
       "    </tr>\n",
       "  </tbody>\n",
       "</table>\n",
       "</div>"
      ],
      "text/plain": [
       "        As of  Rank Year to Date Rank Last Week Rank  \\\n",
       "0  2020-04-01     1                 1              1   \n",
       "1  2020-04-01     2                 2              -   \n",
       "2  2020-04-01     3                 3              2   \n",
       "3  2020-04-01     4                 4              -   \n",
       "4  2020-04-01     5                 5              4   \n",
       "5  2020-04-01     6                 6              -   \n",
       "6  2020-04-01     7                10              -   \n",
       "7  2020-04-01     8                 7              5   \n",
       "8  2020-04-01     9                 8              -   \n",
       "9  2020-04-01    10                 9              -   \n",
       "\n",
       "                          Title     Type Netflix Exclusive  \\\n",
       "0  Tiger King: Murder, Mayhem …  TV Show               Yes   \n",
       "1                         Ozark  TV Show               Yes   \n",
       "2                  All American  TV Show               NaN   \n",
       "3                  Blood Father    Movie               NaN   \n",
       "4                  The Platform    Movie               Yes   \n",
       "5   Car Masters: Rust to Riches  TV Show               Yes   \n",
       "6                    Unorthodox  TV Show               Yes   \n",
       "7                 Love is Blind  TV Show               Yes   \n",
       "8                       Badland    Movie               NaN   \n",
       "9                      Uncorked    Movie               Yes   \n",
       "\n",
       "  Netflix Release Date  Days In Top 10  Viewership Score  \n",
       "0         Mar 20, 2020               9                90  \n",
       "1         Jul 21, 2017               5                45  \n",
       "2         Mar 28, 2019               9                76  \n",
       "3         Mar 26, 2020               5                30  \n",
       "4         Mar 20, 2020               9                55  \n",
       "5         Sep 14, 2018               4                14  \n",
       "6         Mar 26, 2020               2                 5  \n",
       "7         Feb 13, 2020               9                40  \n",
       "8         Mar 26, 2020               4                11  \n",
       "9         Mar 27, 2020               4                15  "
      ]
     },
     "execution_count": 3,
     "metadata": {},
     "output_type": "execute_result"
    }
   ],
   "source": [
    "df_netflix.head(10)"
   ]
  },
  {
   "cell_type": "code",
   "execution_count": 4,
   "metadata": {},
   "outputs": [
    {
     "name": "stdout",
     "output_type": "stream",
     "text": [
      "<class 'pandas.core.frame.DataFrame'>\n",
      "RangeIndex: 7100 entries, 0 to 7099\n",
      "Data columns (total 10 columns):\n",
      " #   Column                Non-Null Count  Dtype \n",
      "---  ------                --------------  ----- \n",
      " 0   As of                 7100 non-null   object\n",
      " 1   Rank                  7100 non-null   int64 \n",
      " 2   Year to Date Rank     7100 non-null   object\n",
      " 3   Last Week Rank        7100 non-null   object\n",
      " 4   Title                 7100 non-null   object\n",
      " 5   Type                  7100 non-null   object\n",
      " 6   Netflix Exclusive     4599 non-null   object\n",
      " 7   Netflix Release Date  7100 non-null   object\n",
      " 8   Days In Top 10        7100 non-null   int64 \n",
      " 9   Viewership Score      7100 non-null   int64 \n",
      "dtypes: int64(3), object(7)\n",
      "memory usage: 554.8+ KB\n"
     ]
    }
   ],
   "source": [
    "df_netflix.info()"
   ]
  },
  {
   "cell_type": "code",
   "execution_count": 5,
   "metadata": {},
   "outputs": [],
   "source": [
    "df_netflix.columns = ['as_of', 'rank', 'year_of_date_rank', 'last_week_rank', 'title', 'type', 'netflix_exclusive', 'netflix_release_date', 'days_in_top_10', 'viewership_score']"
   ]
  },
  {
   "cell_type": "code",
   "execution_count": 6,
   "metadata": {},
   "outputs": [
    {
     "name": "stdout",
     "output_type": "stream",
     "text": [
      "Período de análise: 2020-04-01 a 2022-03-11\n"
     ]
    }
   ],
   "source": [
    "# Verificar o período de análise\n",
    "min_date = pd.to_datetime(df_netflix['as_of']).dt.date.min()\n",
    "max_date = pd.to_datetime(df_netflix['as_of']).dt.date.max()\n",
    "print(f\"Período de análise: {min_date} a {max_date}\")"
   ]
  },
  {
   "cell_type": "code",
   "execution_count": 7,
   "metadata": {},
   "outputs": [
    {
     "name": "stdout",
     "output_type": "stream",
     "text": [
      "Quantidade de registros: 7100\n"
     ]
    }
   ],
   "source": [
    "# Verificar o tamanho da base\n",
    "df_size = df_netflix.shape[0]\n",
    "print(f\"Quantidade de registros: {df_size}\")"
   ]
  },
  {
   "cell_type": "code",
   "execution_count": 8,
   "metadata": {},
   "outputs": [
    {
     "data": {
      "text/plain": [
       "as_of                      0\n",
       "rank                       0\n",
       "year_of_date_rank          0\n",
       "last_week_rank             0\n",
       "title                      0\n",
       "type                       0\n",
       "netflix_exclusive       2501\n",
       "netflix_release_date       0\n",
       "days_in_top_10             0\n",
       "viewership_score           0\n",
       "dtype: int64"
      ]
     },
     "execution_count": 8,
     "metadata": {},
     "output_type": "execute_result"
    }
   ],
   "source": [
    "# Quantidade de dados nulos\n",
    "df_netflix.isna().sum()"
   ]
  },
  {
   "cell_type": "code",
   "execution_count": null,
   "metadata": {},
   "outputs": [
    {
     "data": {
      "image/png": "[encoded data removed]",
      "text/plain": [
       "<Figure size 1000x600 with 1 Axes>"
      ]
     },
     "metadata": {},
     "output_type": "display_data"
    }
   ],
   "source": [
    "# Visualização dos dados outliers - days_in_top_10\n",
    "import matplotlib.pyplot as plt\n",
    "plt.figure(figsize=(10, 6))\n",
    "df_netflix.boxplot(column='days_in_top_10')\n",
    "plt.show()"
   ]
  },
  {
   "cell_type": "code",
   "execution_count": null,
   "metadata": {},
   "outputs": [
    {
     "data": {
      "text/plain": [
       "<Axes: >"
      ]
     },
     "execution_count": 14,
     "metadata": {},
     "output_type": "execute_result"
    },
    {
     "data": {
      "image/png": "[encoded data removed]",
      "text/plain": [
       "<Figure size 640x480 with 1 Axes>"
      ]
     },
     "metadata": {},
     "output_type": "display_data"
    }
   ],
   "source": [
    "# Distribuição dos dados - days_in_top_10\n",
    "df_netflix.days_in_top_10.hist()"
   ]
  },
  {
   "cell_type": "code",
   "execution_count": null,
   "metadata": {},
   "outputs": [
    {
     "data": {
      "image/png": "[encoded data removed]",
      "text/plain": [
       "<Figure size 1000x600 with 1 Axes>"
      ]
     },
     "metadata": {},
     "output_type": "display_data"
    }
   ],
   "source": [
    "# Visualização dos dados outliers - viewership_score\n",
    "plt.figure(figsize=(10, 6))\n",
    "df_netflix.boxplot(column='viewership_score')\n",
    "plt.show()"
   ]
  },
  {
   "cell_type": "code",
   "execution_count": null,
   "metadata": {},
   "outputs": [
    {
     "data": {
      "text/plain": [
       "<Axes: >"
      ]
     },
     "execution_count": 15,
     "metadata": {},
     "output_type": "execute_result"
    },
    {
     "data": {
      "image/png": "[encoded data removed]",
      "text/plain": [
       "<Figure size 640x480 with 1 Axes>"
      ]
     },
     "metadata": {},
     "output_type": "display_data"
    }
   ],
   "source": [
    "# Distribuição dos dados - viewership_score\n",
    "df_netflix.viewership_score.hist()"
   ]
  }
 ],
 "metadata": {
  "kernelspec": {
   "display_name": "challenge_ai_statistic-eWN-6r4k",
   "language": "python",
   "name": "python3"
  },
  "language_info": {
   "codemirror_mode": {
    "name": "ipython",
    "version": 3
   },
   "file_extension": ".py",
   "mimetype": "text/x-python",
   "name": "python",
   "nbconvert_exporter": "python",
   "pygments_lexer": "ipython3",
   "version": "3.11.9"
  }
 },
 "nbformat": 4,
 "nbformat_minor": 2
}
